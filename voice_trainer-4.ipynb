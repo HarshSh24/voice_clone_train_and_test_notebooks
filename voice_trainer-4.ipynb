{
  "nbformat": 4,
  "nbformat_minor": 0,
  "metadata": {
    "colab": {
      "provenance": [],
      "gpuType": "A100",
      "machine_shape": "hm"
    },
    "kernelspec": {
      "name": "python3",
      "display_name": "Python 3"
    },
    "language_info": {
      "name": "python"
    },
    "accelerator": "GPU"
  },
  "cells": [
    {
      "cell_type": "code",
      "execution_count": null,
      "metadata": {
        "id": "YhxNXAJkQgMV",
        "collapsed": true
      },
      "outputs": [],
      "source": [
        "!git clone https://github.com/HarshSh24/voice_trainer.git"
      ]
    },
    {
      "cell_type": "code",
      "source": [
        "!pip install poetry"
      ],
      "metadata": {
        "id": "smDvl2NDQs1v"
      },
      "execution_count": null,
      "outputs": []
    },
    {
      "cell_type": "code",
      "source": [
        "!cd /content/voice_trainer && poetry install"
      ],
      "metadata": {
        "id": "aHgIVjUOQ0sK"
      },
      "execution_count": null,
      "outputs": []
    },
    {
      "cell_type": "code",
      "source": [
        "!pip install -r /content/voice_trainer/requirements.txt\n",
        "!pip install python-dotenv omegaconf hydra-core bitarray sacrebleu"
      ],
      "metadata": {
        "id": "KqU3N8YzQ2aD"
      },
      "execution_count": null,
      "outputs": []
    },
    {
      "cell_type": "code",
      "source": [
        "!git clone https://github.com/pytorch/fairseq #  && cd fairseq && pip install --editable ./\n",
        "!cd fairseq && git checkout nllb && pip install -e . && python setup.py build_ext --inplace\n",
        "! git clone https://github.com/facebookresearch/fairscale.git && cd fairscale && git checkout origin/experts_lt_gpus_moe_reload_fix && pip install -e ."
      ],
      "metadata": {
        "id": "W0T6y_1pSolw"
      },
      "execution_count": null,
      "outputs": []
    },
    {
      "cell_type": "code",
      "source": [
        "import sys\n",
        "sys.path.append(\"/content/fairseq/\")"
      ],
      "metadata": {
        "id": "hSDhu30TDLqm"
      },
      "execution_count": 18,
      "outputs": []
    },
    {
      "cell_type": "code",
      "source": [
        "!python /content/voice_trainer/tools/download_models.py"
      ],
      "metadata": {
        "id": "YpfRYGDdEyAk"
      },
      "execution_count": null,
      "outputs": []
    },
    {
      "cell_type": "code",
      "source": [
        "!cd /content/voice_trainer/ && python infer-web.py --colab --pycmd python3"
      ],
      "metadata": {
        "id": "RR5lsnZ4jHLQ"
      },
      "execution_count": null,
      "outputs": []
    }
  ]
}